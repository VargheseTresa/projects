{
 "cells": [
  {
   "cell_type": "code",
   "execution_count": 65,
   "id": "cf82c86c",
   "metadata": {},
   "outputs": [],
   "source": [
    "import pandas as pd\n",
    "import warnings\n",
    "import numpy as np\n",
    "import matplotlib.pyplot as plt\n",
    "%matplotlib inline\n",
    "\n",
    "#from statsmodels.tsa.seasonal import seasonal_decompose\n",
    "warnings.filterwarnings('ignore')"
   ]
  },
  {
   "cell_type": "code",
   "execution_count": 66,
   "id": "be44c265",
   "metadata": {},
   "outputs": [
    {
     "data": {
      "text/plain": [
       "\"\\nfrom tensorflow.keras.models import Sequential\\nfrom tensorflow.keras.layers import Dense\\nfrom tensorflow.keras.layers import LSTM\\nfrom math import sqrt\\nimport matplotlib\\n# be able to save images on server\\nmatplotlib.use('Agg')\\nfrom matplotlib import pyplot\\nimport numpy\""
      ]
     },
     "execution_count": 66,
     "metadata": {},
     "output_type": "execute_result"
    }
   ],
   "source": [
    "'''from pandas import DataFrame\n",
    "from pandas import Series\n",
    "from pandas import concat\n",
    "from pandas import read_csv\n",
    "from pandas import datetime'''\n",
    "from sklearn.metrics import mean_squared_error\n",
    "from sklearn.preprocessing import MinMaxScaler\n",
    "\n",
    "#from tensorflow.keras import keras \n",
    "from tensorflow.keras.models import Sequential\n",
    "from tensorflow.keras.layers import Dense, LSTM\n",
    "'''\n",
    "from tensorflow.keras.models import Sequential\n",
    "from tensorflow.keras.layers import Dense\n",
    "from tensorflow.keras.layers import LSTM\n",
    "from math import sqrt\n",
    "import matplotlib\n",
    "# be able to save images on server\n",
    "matplotlib.use('Agg')\n",
    "from matplotlib import pyplot\n",
    "import numpy'''"
   ]
  },
  {
   "cell_type": "code",
   "execution_count": 67,
   "id": "ee6ef33c",
   "metadata": {},
   "outputs": [
    {
     "data": {
      "text/html": [
       "<div>\n",
       "<style scoped>\n",
       "    .dataframe tbody tr th:only-of-type {\n",
       "        vertical-align: middle;\n",
       "    }\n",
       "\n",
       "    .dataframe tbody tr th {\n",
       "        vertical-align: top;\n",
       "    }\n",
       "\n",
       "    .dataframe thead th {\n",
       "        text-align: right;\n",
       "    }\n",
       "</style>\n",
       "<table border=\"1\" class=\"dataframe\">\n",
       "  <thead>\n",
       "    <tr style=\"text-align: right;\">\n",
       "      <th></th>\n",
       "      <th>daily_deaths</th>\n",
       "    </tr>\n",
       "    <tr>\n",
       "      <th>Date</th>\n",
       "      <th></th>\n",
       "    </tr>\n",
       "  </thead>\n",
       "  <tbody>\n",
       "    <tr>\n",
       "      <th>2020-01-22</th>\n",
       "      <td>0.0</td>\n",
       "    </tr>\n",
       "    <tr>\n",
       "      <th>2020-01-23</th>\n",
       "      <td>0.0</td>\n",
       "    </tr>\n",
       "    <tr>\n",
       "      <th>2020-01-24</th>\n",
       "      <td>0.0</td>\n",
       "    </tr>\n",
       "    <tr>\n",
       "      <th>2020-01-25</th>\n",
       "      <td>0.0</td>\n",
       "    </tr>\n",
       "    <tr>\n",
       "      <th>2020-01-26</th>\n",
       "      <td>0.0</td>\n",
       "    </tr>\n",
       "    <tr>\n",
       "      <th>...</th>\n",
       "      <td>...</td>\n",
       "    </tr>\n",
       "    <tr>\n",
       "      <th>2022-01-16</th>\n",
       "      <td>0.0</td>\n",
       "    </tr>\n",
       "    <tr>\n",
       "      <th>2022-01-17</th>\n",
       "      <td>22.0</td>\n",
       "    </tr>\n",
       "    <tr>\n",
       "      <th>2022-01-18</th>\n",
       "      <td>2.0</td>\n",
       "    </tr>\n",
       "    <tr>\n",
       "      <th>2022-01-19</th>\n",
       "      <td>13.0</td>\n",
       "    </tr>\n",
       "    <tr>\n",
       "      <th>2022-01-20</th>\n",
       "      <td>15.0</td>\n",
       "    </tr>\n",
       "  </tbody>\n",
       "</table>\n",
       "<p>730 rows × 1 columns</p>\n",
       "</div>"
      ],
      "text/plain": [
       "            daily_deaths\n",
       "Date                    \n",
       "2020-01-22           0.0\n",
       "2020-01-23           0.0\n",
       "2020-01-24           0.0\n",
       "2020-01-25           0.0\n",
       "2020-01-26           0.0\n",
       "...                  ...\n",
       "2022-01-16           0.0\n",
       "2022-01-17          22.0\n",
       "2022-01-18           2.0\n",
       "2022-01-19          13.0\n",
       "2022-01-20          15.0\n",
       "\n",
       "[730 rows x 1 columns]"
      ]
     },
     "execution_count": 67,
     "metadata": {},
     "output_type": "execute_result"
    }
   ],
   "source": [
    "bc_deaths = pd.read_csv('../data/processed/British Columbia_combined.csv', index_col='Date', parse_dates=['Date'], usecols=['Date', 'daily_deaths'])\n",
    "bc_deaths"
   ]
  },
  {
   "cell_type": "markdown",
   "id": "d156d879",
   "metadata": {},
   "source": [
    "#### What is LSTM?\n",
    "Long Short-Term Memory is a kind of recurrent neural network (RNN) architecture. The RNN are mainly used in processing sequential data (text, natural language or image captioning) and in time series forecasting. Their main difference with feedforward or convolutional networks is the fact that they have some sort of ‘memory’. RNNs feed the output back as an input, making the output dependent on prior events.\n",
    "\n",
    "\n",
    "#### Why LSTM?\n",
    "The idea behind RNN was to build a NN that was able to learn to use past information. When the useful information is close in time, RNN can do the job. But If we need to go further back in time RNN fails, and here is where LSTM comes into play. LSTMs are capable of keeping the important information, doesn’t mind of back in time it is, and forget the useless one."
   ]
  },
  {
   "cell_type": "code",
   "execution_count": 79,
   "id": "c0eacd11",
   "metadata": {},
   "outputs": [],
   "source": [
    "# Scale the data\n",
    "def scale_data(dataset):\n",
    "    scaler = MinMaxScaler(feature_range=(0,1))\n",
    "    scaled_data = scaler.fit_transform(dataset)\n",
    "    return scaler,scaled_data\n",
    "\n",
    "\n",
    "# Create the training data set \n",
    "# Create the scaled training data set\n",
    "def create_train_test_data(scaled_data):\n",
    "    train_data = scaled_data[0:int(training_data_len), :]\n",
    "    # Split the data into x_train and y_train data sets\n",
    "    x_train = []\n",
    "    y_train = []\n",
    "\n",
    "    for i in range(14, len(train_data)):\n",
    "        x_train.append(train_data[i-14:i, 0])\n",
    "        y_train.append(train_data[i, 0])\n",
    "\n",
    "    # Convert the x_train and y_train to numpy arrays \n",
    "    x_train, y_train = np.array(x_train), np.array(y_train)\n",
    "\n",
    "    # Reshape the data\n",
    "    x_train = np.reshape(x_train, (x_train.shape[0], x_train.shape[1], 1))\n",
    "    \n",
    "    test_data = scaled_data[training_data_len - 14: , :]\n",
    "    # Create the data sets x_test and y_test\n",
    "    x_test = []\n",
    "    y_test = dataset[training_data_len:, :]\n",
    "    for i in range(14, len(test_data)):\n",
    "        x_test.append(test_data[i-14:i, 0])\n",
    "\n",
    "    # Convert the data to a numpy array\n",
    "    x_test = np.array(x_test)\n",
    "\n",
    "    # Reshape the data\n",
    "    x_test = np.reshape(x_test, (x_test.shape[0], x_test.shape[1], 1 ))\n",
    "    \n",
    "    return x_train, y_train, x_test, y_test\n",
    "\n",
    "\n",
    "# build model\n",
    "\n",
    "def fit_lstm(x_train, y_train, batch_size=1, num_epochs=1):\n",
    "    # Build the LSTM model\n",
    "    model = Sequential()\n",
    "    model.add(LSTM(128, return_sequences=True, input_shape= (x_train.shape[1], 1)))\n",
    "    model.add(LSTM(64, return_sequences=False))\n",
    "    model.add(Dense(25))\n",
    "    model.add(Dense(1))\n",
    "\n",
    "    # Compile the model\n",
    "    model.compile(optimizer='adam', loss='mean_squared_error')\n",
    "\n",
    "    # Train the model\n",
    "    model.fit(x_train, y_train, batch_size=batch_size, epochs=num_epochs)\n",
    "    \n",
    "    return model"
   ]
  },
  {
   "cell_type": "code",
   "execution_count": 80,
   "id": "580e7219",
   "metadata": {},
   "outputs": [],
   "source": []
  },
  {
   "cell_type": "markdown",
   "id": "8de06307",
   "metadata": {},
   "source": [
    "### Hyperparameter tuning\n",
    "\n",
    "In every machine learning algorithm we have the parameters and the hyperparameters. Parameters are learnt by the algorithm itself by training. On the other hand, hyperparameters are set manually by the user.\n",
    "\n",
    "For Neural Networks, there is no clear guidelines or any formal procedure to design and choose the neural network hyperparameters. So, usually trial and error techniques and intuition are used.\n",
    "\n",
    "The parameters we need to tune in our LSTM deep learning model are \n",
    "1. Number of training epochs\n",
    "2. Number of batches\n",
    "\n",
    "**Number of epochs**"
   ]
  },
  {
   "cell_type": "code",
   "execution_count": 92,
   "id": "b5ca1697",
   "metadata": {},
   "outputs": [],
   "source": [
    "def experiment(repeats, df, epochs):\n",
    "    \n",
    "    dataset = df.values\n",
    "    # Get the number of rows to train the model on\n",
    "    training_data_len = int(np.ceil( len(dataset) * .95 ))\n",
    "    \n",
    "    scaler, scaled_data = scale_data(dataset)\n",
    "    \n",
    "    x_train, y_train, x_test, y_test = create_train_test_data(scaled_data)\n",
    "    \n",
    "    \n",
    "    # run experiment\n",
    "    error_scores = list()\n",
    "    for r in range(repeats):\n",
    "        batch_size = 1\n",
    "        model = fit_lstm(x_train, y_train, batch_size, epochs)\n",
    "        # Get the models predicted price values \n",
    "        predictions = model.predict(x_test)\n",
    "        predictions = scaler.inverse_transform(predictions)\n",
    "\n",
    "        # Get the root mean squared error (RMSE)\n",
    "        rmse = np.sqrt(np.mean(((predictions - y_test) ** 2)))\n",
    "        error_scores.append(rmse)\n",
    "    return error_scores"
   ]
  },
  {
   "cell_type": "code",
   "execution_count": 87,
   "id": "16939f9b",
   "metadata": {},
   "outputs": [
    {
     "name": "stdout",
     "output_type": "stream",
     "text": [
      "680/680 [==============================] - 29s 42ms/sample - loss: 0.0080\n",
      "680/680 [==============================] - 31s 46ms/sample - loss: 0.0081\n",
      "680/680 [==============================] - 35s 51ms/sample - loss: 0.0076\n",
      "680/680 [==============================] - 34s 50ms/sample - loss: 0.0076\n",
      "680/680 [==============================] - 37s 55ms/sample - loss: 0.0078\n",
      "Epoch 1/3\n",
      "680/680 [==============================] - 37s 55ms/sample - loss: 0.0078\n",
      "Epoch 2/3\n",
      "680/680 [==============================] - 33s 49ms/sample - loss: 0.0071\n",
      "Epoch 3/3\n",
      "680/680 [==============================] - 33s 48ms/sample - loss: 0.0069\n",
      "Epoch 1/3\n",
      "680/680 [==============================] - 40s 58ms/sample - loss: 0.0079\n",
      "Epoch 2/3\n",
      "680/680 [==============================] - 35s 52ms/sample - loss: 0.0075\n",
      "Epoch 3/3\n",
      "680/680 [==============================] - 35s 51ms/sample - loss: 0.0073\n",
      "Epoch 1/3\n",
      "680/680 [==============================] - 42s 61ms/sample - loss: 0.0076\n",
      "Epoch 2/3\n",
      "680/680 [==============================] - 37s 54ms/sample - loss: 0.0075\n",
      "Epoch 3/3\n",
      "680/680 [==============================] - 37s 55ms/sample - loss: 0.0074\n",
      "Epoch 1/3\n",
      "680/680 [==============================] - 48s 71ms/sample - loss: 0.0079\n",
      "Epoch 2/3\n",
      "680/680 [==============================] - 43s 64ms/sample - loss: 0.0075\n",
      "Epoch 3/3\n",
      "680/680 [==============================] - 43s 63ms/sample - loss: 0.0067\n",
      "Epoch 1/3\n",
      "680/680 [==============================] - 46s 68ms/sample - loss: 0.0079\n",
      "Epoch 2/3\n",
      "680/680 [==============================] - 40s 58ms/sample - loss: 0.0070\n",
      "Epoch 3/3\n",
      "680/680 [==============================] - 40s 58ms/sample - loss: 0.0070\n",
      "Epoch 1/5\n",
      "680/680 [==============================] - 48s 71ms/sample - loss: 0.0075\n",
      "Epoch 2/5\n",
      "680/680 [==============================] - 41s 60ms/sample - loss: 0.0072\n",
      "Epoch 3/5\n",
      "680/680 [==============================] - 40s 59ms/sample - loss: 0.0069\n",
      "Epoch 4/5\n",
      "680/680 [==============================] - 40s 60ms/sample - loss: 0.0065\n",
      "Epoch 5/5\n",
      "680/680 [==============================] - 40s 59ms/sample - loss: 0.0067\n",
      "Epoch 1/5\n",
      "680/680 [==============================] - 48s 70ms/sample - loss: 0.0079\n",
      "Epoch 2/5\n",
      "680/680 [==============================] - 43s 63ms/sample - loss: 0.0073\n",
      "Epoch 3/5\n",
      "680/680 [==============================] - 43s 63ms/sample - loss: 0.0070\n",
      "Epoch 4/5\n",
      "680/680 [==============================] - 41s 60ms/sample - loss: 0.0071\n",
      "Epoch 5/5\n",
      "680/680 [==============================] - 41s 60ms/sample - loss: 0.0067\n",
      "Epoch 1/5\n",
      "680/680 [==============================] - 49s 72ms/sample - loss: 0.0078\n",
      "Epoch 2/5\n",
      "680/680 [==============================] - 42s 62ms/sample - loss: 0.0077\n",
      "Epoch 3/5\n",
      "680/680 [==============================] - 42s 62ms/sample - loss: 0.0070\n",
      "Epoch 4/5\n",
      "680/680 [==============================] - 42s 62ms/sample - loss: 0.0068\n",
      "Epoch 5/5\n",
      "680/680 [==============================] - 42s 62ms/sample - loss: 0.0070\n",
      "Epoch 1/5\n",
      "680/680 [==============================] - 48s 71ms/sample - loss: 0.0079\n",
      "Epoch 2/5\n",
      "680/680 [==============================] - 41s 60ms/sample - loss: 0.0072\n",
      "Epoch 3/5\n",
      "680/680 [==============================] - 41s 61ms/sample - loss: 0.0069\n",
      "Epoch 4/5\n",
      "680/680 [==============================] - 41s 60ms/sample - loss: 0.0067\n",
      "Epoch 5/5\n",
      "680/680 [==============================] - 41s 61ms/sample - loss: 0.0069\n",
      "Epoch 1/5\n",
      "680/680 [==============================] - 49s 72ms/sample - loss: 0.0076\n",
      "Epoch 2/5\n",
      "680/680 [==============================] - 42s 62ms/sample - loss: 0.0079\n",
      "Epoch 3/5\n",
      "680/680 [==============================] - 43s 63ms/sample - loss: 0.0071\n",
      "Epoch 4/5\n",
      "680/680 [==============================] - 42s 62ms/sample - loss: 0.0215\n",
      "Epoch 5/5\n",
      "680/680 [==============================] - 42s 62ms/sample - loss: 0.0073\n",
      "Epoch 1/10\n",
      "680/680 [==============================] - 51s 75ms/sample - loss: 0.0078\n",
      "Epoch 2/10\n",
      "680/680 [==============================] - 44s 64ms/sample - loss: 0.0070\n",
      "Epoch 3/10\n",
      "680/680 [==============================] - 44s 65ms/sample - loss: 0.0068\n",
      "Epoch 4/10\n",
      "680/680 [==============================] - 44s 65ms/sample - loss: 0.0069\n",
      "Epoch 5/10\n",
      "680/680 [==============================] - 44s 65ms/sample - loss: 0.0070\n",
      "Epoch 6/10\n",
      "680/680 [==============================] - 44s 64ms/sample - loss: 0.0065\n",
      "Epoch 7/10\n",
      "680/680 [==============================] - 44s 64ms/sample - loss: 0.0062\n",
      "Epoch 8/10\n",
      "680/680 [==============================] - 44s 64ms/sample - loss: 0.0065\n",
      "Epoch 9/10\n",
      "680/680 [==============================] - 44s 64ms/sample - loss: 0.0064\n",
      "Epoch 10/10\n",
      "680/680 [==============================] - 45s 66ms/sample - loss: 0.0058\n",
      "Epoch 1/10\n",
      "680/680 [==============================] - 52s 76ms/sample - loss: 0.0079\n",
      "Epoch 2/10\n",
      "680/680 [==============================] - 45s 65ms/sample - loss: 0.0073\n",
      "Epoch 3/10\n",
      "680/680 [==============================] - 46s 68ms/sample - loss: 0.0070\n",
      "Epoch 4/10\n",
      "680/680 [==============================] - 45s 66ms/sample - loss: 0.0073\n",
      "Epoch 5/10\n",
      "680/680 [==============================] - 45s 66ms/sample - loss: 0.0076\n",
      "Epoch 6/10\n",
      "680/680 [==============================] - 45s 66ms/sample - loss: 0.0070\n",
      "Epoch 7/10\n",
      "680/680 [==============================] - 45s 66ms/sample - loss: 0.0070\n",
      "Epoch 8/10\n",
      "680/680 [==============================] - 45s 67ms/sample - loss: 0.0069\n",
      "Epoch 9/10\n",
      "680/680 [==============================] - 46s 68ms/sample - loss: 0.0064\n",
      "Epoch 10/10\n",
      "680/680 [==============================] - 45s 66ms/sample - loss: 0.0082\n",
      "Epoch 1/10\n",
      "680/680 [==============================] - 54s 80ms/sample - loss: 0.0081\n",
      "Epoch 2/10\n",
      "680/680 [==============================] - 49s 72ms/sample - loss: 0.0074\n",
      "Epoch 3/10\n",
      "680/680 [==============================] - 48s 70ms/sample - loss: 0.0069\n",
      "Epoch 4/10\n",
      "680/680 [==============================] - 48s 70ms/sample - loss: 0.0065\n",
      "Epoch 5/10\n",
      "680/680 [==============================] - 48s 71ms/sample - loss: 0.0067\n",
      "Epoch 6/10\n",
      "680/680 [==============================] - 48s 71ms/sample - loss: 0.0066\n",
      "Epoch 7/10\n",
      "680/680 [==============================] - 48s 71ms/sample - loss: 0.0063\n",
      "Epoch 8/10\n",
      "680/680 [==============================] - 48s 70ms/sample - loss: 0.0062\n",
      "Epoch 9/10\n",
      "680/680 [==============================] - 48s 70ms/sample - loss: 0.0065\n",
      "Epoch 10/10\n",
      "680/680 [==============================] - 48s 70ms/sample - loss: 0.0062\n",
      "Epoch 1/10\n",
      "680/680 [==============================] - 54s 80ms/sample - loss: 0.0078s \n",
      "Epoch 2/10\n",
      "680/680 [==============================] - 46s 68ms/sample - loss: 0.0082\n",
      "Epoch 3/10\n",
      "680/680 [==============================] - 46s 68ms/sample - loss: 0.0070\n",
      "Epoch 4/10\n",
      "680/680 [==============================] - 46s 67ms/sample - loss: 0.0068\n",
      "Epoch 5/10\n",
      "680/680 [==============================] - 46s 67ms/sample - loss: 0.0066\n",
      "Epoch 6/10\n",
      "680/680 [==============================] - 46s 67ms/sample - loss: 0.0069\n",
      "Epoch 7/10\n",
      "680/680 [==============================] - 46s 68ms/sample - loss: 0.0065\n",
      "Epoch 8/10\n",
      "680/680 [==============================] - 46s 68ms/sample - loss: 0.0061\n",
      "Epoch 9/10\n",
      "680/680 [==============================] - 46s 68ms/sample - loss: 0.0064\n",
      "Epoch 10/10\n",
      "680/680 [==============================] - 46s 68ms/sample - loss: 0.0062\n",
      "Epoch 1/10\n",
      "680/680 [==============================] - 57s 83ms/sample - loss: 0.0081\n",
      "Epoch 2/10\n",
      "680/680 [==============================] - 49s 72ms/sample - loss: 0.0077\n",
      "Epoch 3/10\n",
      "680/680 [==============================] - 50s 73ms/sample - loss: 0.0070\n",
      "Epoch 4/10\n",
      "680/680 [==============================] - 50s 73ms/sample - loss: 0.0072\n",
      "Epoch 5/10\n",
      "680/680 [==============================] - 50s 73ms/sample - loss: 0.0067\n",
      "Epoch 6/10\n",
      "680/680 [==============================] - 49s 72ms/sample - loss: 0.0065\n",
      "Epoch 7/10\n",
      "680/680 [==============================] - 49s 73ms/sample - loss: 0.0100\n",
      "Epoch 8/10\n",
      "680/680 [==============================] - 49s 72ms/sample - loss: 0.0061\n",
      "Epoch 9/10\n",
      "680/680 [==============================] - 49s 72ms/sample - loss: 0.0061\n",
      "Epoch 10/10\n",
      "680/680 [==============================] - 49s 73ms/sample - loss: 0.0062\n"
     ]
    }
   ],
   "source": [
    "repeats = 5\n",
    "\n",
    "results = DataFrame()\n",
    "epochs = [1, 3, 5, 10]\n",
    "\n",
    "for e in epochs:\n",
    "    results[str(e)] = experiment(repeats, series, e)"
   ]
  },
  {
   "cell_type": "code",
   "execution_count": 89,
   "id": "e712caa0",
   "metadata": {},
   "outputs": [
    {
     "data": {
      "text/html": [
       "<div>\n",
       "<style scoped>\n",
       "    .dataframe tbody tr th:only-of-type {\n",
       "        vertical-align: middle;\n",
       "    }\n",
       "\n",
       "    .dataframe tbody tr th {\n",
       "        vertical-align: top;\n",
       "    }\n",
       "\n",
       "    .dataframe thead th {\n",
       "        text-align: right;\n",
       "    }\n",
       "</style>\n",
       "<table border=\"1\" class=\"dataframe\">\n",
       "  <thead>\n",
       "    <tr style=\"text-align: right;\">\n",
       "      <th></th>\n",
       "      <th>1</th>\n",
       "      <th>3</th>\n",
       "      <th>5</th>\n",
       "      <th>10</th>\n",
       "    </tr>\n",
       "  </thead>\n",
       "  <tbody>\n",
       "    <tr>\n",
       "      <th>0</th>\n",
       "      <td>4.786234</td>\n",
       "      <td>4.762668</td>\n",
       "      <td>4.656026</td>\n",
       "      <td>4.975507</td>\n",
       "    </tr>\n",
       "    <tr>\n",
       "      <th>1</th>\n",
       "      <td>5.372300</td>\n",
       "      <td>4.402140</td>\n",
       "      <td>4.604094</td>\n",
       "      <td>5.601156</td>\n",
       "    </tr>\n",
       "    <tr>\n",
       "      <th>2</th>\n",
       "      <td>5.252192</td>\n",
       "      <td>4.585320</td>\n",
       "      <td>4.538230</td>\n",
       "      <td>4.661859</td>\n",
       "    </tr>\n",
       "    <tr>\n",
       "      <th>3</th>\n",
       "      <td>4.932782</td>\n",
       "      <td>4.440324</td>\n",
       "      <td>4.690070</td>\n",
       "      <td>4.991774</td>\n",
       "    </tr>\n",
       "    <tr>\n",
       "      <th>4</th>\n",
       "      <td>4.708449</td>\n",
       "      <td>4.696922</td>\n",
       "      <td>5.905589</td>\n",
       "      <td>4.709493</td>\n",
       "    </tr>\n",
       "  </tbody>\n",
       "</table>\n",
       "</div>"
      ],
      "text/plain": [
       "          1         3         5        10\n",
       "0  4.786234  4.762668  4.656026  4.975507\n",
       "1  5.372300  4.402140  4.604094  5.601156\n",
       "2  5.252192  4.585320  4.538230  4.661859\n",
       "3  4.932782  4.440324  4.690070  4.991774\n",
       "4  4.708449  4.696922  5.905589  4.709493"
      ]
     },
     "execution_count": 89,
     "metadata": {},
     "output_type": "execute_result"
    }
   ],
   "source": [
    "results"
   ]
  },
  {
   "cell_type": "code",
   "execution_count": 90,
   "id": "4a23a36b",
   "metadata": {},
   "outputs": [
    {
     "data": {
      "text/html": [
       "<div>\n",
       "<style scoped>\n",
       "    .dataframe tbody tr th:only-of-type {\n",
       "        vertical-align: middle;\n",
       "    }\n",
       "\n",
       "    .dataframe tbody tr th {\n",
       "        vertical-align: top;\n",
       "    }\n",
       "\n",
       "    .dataframe thead th {\n",
       "        text-align: right;\n",
       "    }\n",
       "</style>\n",
       "<table border=\"1\" class=\"dataframe\">\n",
       "  <thead>\n",
       "    <tr style=\"text-align: right;\">\n",
       "      <th></th>\n",
       "      <th>1</th>\n",
       "      <th>3</th>\n",
       "      <th>5</th>\n",
       "      <th>10</th>\n",
       "    </tr>\n",
       "  </thead>\n",
       "  <tbody>\n",
       "    <tr>\n",
       "      <th>count</th>\n",
       "      <td>5.000000</td>\n",
       "      <td>5.000000</td>\n",
       "      <td>5.000000</td>\n",
       "      <td>5.000000</td>\n",
       "    </tr>\n",
       "    <tr>\n",
       "      <th>mean</th>\n",
       "      <td>5.010392</td>\n",
       "      <td>4.577475</td>\n",
       "      <td>4.878802</td>\n",
       "      <td>4.987958</td>\n",
       "    </tr>\n",
       "    <tr>\n",
       "      <th>std</th>\n",
       "      <td>0.290209</td>\n",
       "      <td>0.156667</td>\n",
       "      <td>0.576844</td>\n",
       "      <td>0.374187</td>\n",
       "    </tr>\n",
       "    <tr>\n",
       "      <th>min</th>\n",
       "      <td>4.708449</td>\n",
       "      <td>4.402140</td>\n",
       "      <td>4.538230</td>\n",
       "      <td>4.661859</td>\n",
       "    </tr>\n",
       "    <tr>\n",
       "      <th>25%</th>\n",
       "      <td>4.786234</td>\n",
       "      <td>4.440324</td>\n",
       "      <td>4.604094</td>\n",
       "      <td>4.709493</td>\n",
       "    </tr>\n",
       "    <tr>\n",
       "      <th>50%</th>\n",
       "      <td>4.932782</td>\n",
       "      <td>4.585320</td>\n",
       "      <td>4.656026</td>\n",
       "      <td>4.975507</td>\n",
       "    </tr>\n",
       "    <tr>\n",
       "      <th>75%</th>\n",
       "      <td>5.252192</td>\n",
       "      <td>4.696922</td>\n",
       "      <td>4.690070</td>\n",
       "      <td>4.991774</td>\n",
       "    </tr>\n",
       "    <tr>\n",
       "      <th>max</th>\n",
       "      <td>5.372300</td>\n",
       "      <td>4.762668</td>\n",
       "      <td>5.905589</td>\n",
       "      <td>5.601156</td>\n",
       "    </tr>\n",
       "  </tbody>\n",
       "</table>\n",
       "</div>"
      ],
      "text/plain": [
       "              1         3         5        10\n",
       "count  5.000000  5.000000  5.000000  5.000000\n",
       "mean   5.010392  4.577475  4.878802  4.987958\n",
       "std    0.290209  0.156667  0.576844  0.374187\n",
       "min    4.708449  4.402140  4.538230  4.661859\n",
       "25%    4.786234  4.440324  4.604094  4.709493\n",
       "50%    4.932782  4.585320  4.656026  4.975507\n",
       "75%    5.252192  4.696922  4.690070  4.991774\n",
       "max    5.372300  4.762668  5.905589  5.601156"
      ]
     },
     "execution_count": 90,
     "metadata": {},
     "output_type": "execute_result"
    }
   ],
   "source": [
    "results.describe()"
   ]
  },
  {
   "cell_type": "code",
   "execution_count": 91,
   "id": "dbe7e7f1",
   "metadata": {},
   "outputs": [
    {
     "data": {
      "text/plain": [
       "<AxesSubplot:>"
      ]
     },
     "execution_count": 91,
     "metadata": {},
     "output_type": "execute_result"
    },
    {
     "data": {
      "image/png": "[encoded data removed]",
      "text/plain": [
       "<Figure size 432x288 with 1 Axes>"
      ]
     },
     "metadata": {
      "needs_background": "light"
     },
     "output_type": "display_data"
    }
   ],
   "source": [
    "results.boxplot()"
   ]
  },
  {
   "cell_type": "code",
   "execution_count": null,
   "id": "6e0562eb",
   "metadata": {},
   "outputs": [],
   "source": []
  },
  {
   "cell_type": "code",
   "execution_count": null,
   "id": "4070a2c6",
   "metadata": {},
   "outputs": [],
   "source": []
  },
  {
   "cell_type": "markdown",
   "id": "f28beefe",
   "metadata": {},
   "source": [
    "I have decided to choose epochs = 3\n",
    "\n",
    "**Batch size**\n",
    "\n",
    "Batch size controls how often to update the weights of the network.\n",
    "\n",
    "Importantly in Keras, the batch size must be a factor of the size of the test and the training dataset."
   ]
  },
  {
   "cell_type": "code",
   "execution_count": 103,
   "id": "7998d273",
   "metadata": {},
   "outputs": [],
   "source": [
    "def experiment(repeats, df, batch_size):\n",
    "    \n",
    "    dataset = df.values\n",
    "    # Get the number of rows to train the model on\n",
    "    training_data_len = int(np.ceil( len(dataset) * .95 ))\n",
    "    \n",
    "    scaler, scaled_data = scale_data(dataset)\n",
    "    \n",
    "    x_train, y_train, x_test, y_test = create_train_test_data(scaled_data)\n",
    "    \n",
    "    \n",
    "    # run experiment\n",
    "    error_scores = list()\n",
    "    for r in range(repeats):\n",
    "        batch_size = 1\n",
    "        model = fit_lstm(x_train, y_train, batch_size, 3)\n",
    "        # Get the models predicted price values \n",
    "        predictions = model.predict(x_test)\n",
    "        predictions = scaler.inverse_transform(predictions)\n",
    "\n",
    "        # Get the root mean squared error (RMSE)\n",
    "        rmse = np.sqrt(np.mean(((predictions - y_test) ** 2)))\n",
    "        error_scores.append(rmse)\n",
    "    return error_scores"
   ]
  },
  {
   "cell_type": "code",
   "execution_count": 104,
   "id": "c2ca9894",
   "metadata": {
    "scrolled": true
   },
   "outputs": [
    {
     "name": "stdout",
     "output_type": "stream",
     "text": [
      "Epoch 1/3\n",
      "680/680 [==============================] - 59s 86ms/sample - loss: 0.0078\n",
      "Epoch 2/3\n",
      "680/680 [==============================] - 49s 71ms/sample - loss: 0.0072\n",
      "Epoch 3/3\n",
      "680/680 [==============================] - 49s 71ms/sample - loss: 0.0074\n",
      "Epoch 1/3\n",
      "680/680 [==============================] - 57s 84ms/sample - loss: 0.0076\n",
      "Epoch 2/3\n",
      "680/680 [==============================] - 49s 72ms/sample - loss: 0.0077\n",
      "Epoch 3/3\n",
      "680/680 [==============================] - 49s 72ms/sample - loss: 0.0073\n",
      "Epoch 1/3\n",
      "680/680 [==============================] - 59s 87ms/sample - loss: 0.0078\n",
      "Epoch 2/3\n",
      "680/680 [==============================] - 51s 75ms/sample - loss: 0.0070\n",
      "Epoch 3/3\n",
      "680/680 [==============================] - 51s 76ms/sample - loss: 0.0067\n",
      "Epoch 1/3\n",
      "680/680 [==============================] - 60s 88ms/sample - loss: 0.0081\n",
      "Epoch 2/3\n",
      "680/680 [==============================] - 51s 75ms/sample - loss: 0.0072\n",
      "Epoch 3/3\n",
      "680/680 [==============================] - 51s 76ms/sample - loss: 0.0068\n",
      "Epoch 1/3\n",
      "680/680 [==============================] - 60s 89ms/sample - loss: 0.0079\n",
      "Epoch 2/3\n",
      "680/680 [==============================] - 52s 77ms/sample - loss: 0.0075\n",
      "Epoch 3/3\n",
      "680/680 [==============================] - 52s 76ms/sample - loss: 0.0070\n",
      "Epoch 1/3\n",
      "680/680 [==============================] - 63s 92ms/sample - loss: 0.0074\n",
      "Epoch 2/3\n",
      "680/680 [==============================] - 54s 79ms/sample - loss: 0.0070\n",
      "Epoch 3/3\n",
      "680/680 [==============================] - 52s 76ms/sample - loss: 0.0073\n",
      "Epoch 1/3\n",
      "680/680 [==============================] - 61s 89ms/sample - loss: 0.0091\n",
      "Epoch 2/3\n",
      "680/680 [==============================] - 52s 76ms/sample - loss: 0.0077\n",
      "Epoch 3/3\n",
      "680/680 [==============================] - 52s 76ms/sample - loss: 0.0073\n",
      "Epoch 1/3\n",
      "680/680 [==============================] - 62s 91ms/sample - loss: 0.0078\n",
      "Epoch 2/3\n",
      "680/680 [==============================] - 54s 80ms/sample - loss: 0.0075\n",
      "Epoch 3/3\n",
      "680/680 [==============================] - 53s 78ms/sample - loss: 0.0070\n",
      "Epoch 1/3\n",
      "680/680 [==============================] - 63s 92ms/sample - loss: 0.0077\n",
      "Epoch 2/3\n",
      "680/680 [==============================] - 54s 79ms/sample - loss: 0.0073\n",
      "Epoch 3/3\n",
      "680/680 [==============================] - 54s 80ms/sample - loss: 0.0070\n",
      "Epoch 1/3\n",
      "680/680 [==============================] - 66s 97ms/sample - loss: 0.0077\n",
      "Epoch 2/3\n",
      "680/680 [==============================] - 56s 83ms/sample - loss: 0.0073\n",
      "Epoch 3/3\n",
      "680/680 [==============================] - 56s 82ms/sample - loss: 0.0084\n",
      "Epoch 1/3\n",
      "680/680 [==============================] - 65s 95ms/sample - loss: 0.0076\n",
      "Epoch 2/3\n",
      "680/680 [==============================] - 55s 81ms/sample - loss: 0.0073\n",
      "Epoch 3/3\n",
      "680/680 [==============================] - 56s 83ms/sample - loss: 0.0068\n",
      "Epoch 1/3\n",
      "680/680 [==============================] - 69s 101ms/sample - loss: 0.0081\n",
      "Epoch 2/3\n",
      "680/680 [==============================] - 59s 87ms/sample - loss: 0.0078\n",
      "Epoch 3/3\n",
      "680/680 [==============================] - 59s 86ms/sample - loss: 0.0075\n",
      "Epoch 1/3\n",
      "680/680 [==============================] - 70s 102ms/sample - loss: 0.0078\n",
      "Epoch 2/3\n",
      "680/680 [==============================] - 59s 87ms/sample - loss: 0.0071\n",
      "Epoch 3/3\n",
      "680/680 [==============================] - 59s 87ms/sample - loss: 0.0071\n",
      "Epoch 1/3\n",
      "680/680 [==============================] - 72s 106ms/sample - loss: 0.0074\n",
      "Epoch 2/3\n",
      "680/680 [==============================] - 62s 91ms/sample - loss: 0.0075\n",
      "Epoch 3/3\n",
      "680/680 [==============================] - 63s 93ms/sample - loss: 0.0070\n",
      "Epoch 1/3\n",
      "680/680 [==============================] - 72s 106ms/sample - loss: 0.0077\n",
      "Epoch 2/3\n",
      "680/680 [==============================] - 60s 88ms/sample - loss: 0.0076\n",
      "Epoch 3/3\n",
      "680/680 [==============================] - 60s 88ms/sample - loss: 0.0071\n"
     ]
    }
   ],
   "source": [
    "\n",
    "repeats = 5\n",
    "results_batch = DataFrame()\n",
    "# vary training batches\n",
    "batches = [1, 2, 4]\n",
    "for b in batches:\n",
    "    results_batch[str(b)] = experiment(repeats, series, b)"
   ]
  },
  {
   "cell_type": "code",
   "execution_count": 105,
   "id": "076be86a",
   "metadata": {},
   "outputs": [
    {
     "data": {
      "text/html": [
       "<div>\n",
       "<style scoped>\n",
       "    .dataframe tbody tr th:only-of-type {\n",
       "        vertical-align: middle;\n",
       "    }\n",
       "\n",
       "    .dataframe tbody tr th {\n",
       "        vertical-align: top;\n",
       "    }\n",
       "\n",
       "    .dataframe thead th {\n",
       "        text-align: right;\n",
       "    }\n",
       "</style>\n",
       "<table border=\"1\" class=\"dataframe\">\n",
       "  <thead>\n",
       "    <tr style=\"text-align: right;\">\n",
       "      <th></th>\n",
       "      <th>1</th>\n",
       "      <th>2</th>\n",
       "      <th>4</th>\n",
       "    </tr>\n",
       "  </thead>\n",
       "  <tbody>\n",
       "    <tr>\n",
       "      <th>count</th>\n",
       "      <td>5.000000</td>\n",
       "      <td>5.000000</td>\n",
       "      <td>5.000000</td>\n",
       "    </tr>\n",
       "    <tr>\n",
       "      <th>mean</th>\n",
       "      <td>4.998278</td>\n",
       "      <td>5.335812</td>\n",
       "      <td>4.851106</td>\n",
       "    </tr>\n",
       "    <tr>\n",
       "      <th>std</th>\n",
       "      <td>0.204293</td>\n",
       "      <td>0.146304</td>\n",
       "      <td>0.300251</td>\n",
       "    </tr>\n",
       "    <tr>\n",
       "      <th>min</th>\n",
       "      <td>4.730695</td>\n",
       "      <td>5.155149</td>\n",
       "      <td>4.632091</td>\n",
       "    </tr>\n",
       "    <tr>\n",
       "      <th>25%</th>\n",
       "      <td>4.866981</td>\n",
       "      <td>5.203229</td>\n",
       "      <td>4.643394</td>\n",
       "    </tr>\n",
       "    <tr>\n",
       "      <th>50%</th>\n",
       "      <td>5.057158</td>\n",
       "      <td>5.397913</td>\n",
       "      <td>4.657502</td>\n",
       "    </tr>\n",
       "    <tr>\n",
       "      <th>75%</th>\n",
       "      <td>5.076533</td>\n",
       "      <td>5.459392</td>\n",
       "      <td>5.020547</td>\n",
       "    </tr>\n",
       "    <tr>\n",
       "      <th>max</th>\n",
       "      <td>5.260025</td>\n",
       "      <td>5.463380</td>\n",
       "      <td>5.301993</td>\n",
       "    </tr>\n",
       "  </tbody>\n",
       "</table>\n",
       "</div>"
      ],
      "text/plain": [
       "              1         2         4\n",
       "count  5.000000  5.000000  5.000000\n",
       "mean   4.998278  5.335812  4.851106\n",
       "std    0.204293  0.146304  0.300251\n",
       "min    4.730695  5.155149  4.632091\n",
       "25%    4.866981  5.203229  4.643394\n",
       "50%    5.057158  5.397913  4.657502\n",
       "75%    5.076533  5.459392  5.020547\n",
       "max    5.260025  5.463380  5.301993"
      ]
     },
     "execution_count": 105,
     "metadata": {},
     "output_type": "execute_result"
    }
   ],
   "source": [
    "results_batch.describe()"
   ]
  },
  {
   "cell_type": "code",
   "execution_count": 106,
   "id": "135352f2",
   "metadata": {},
   "outputs": [
    {
     "data": {
      "text/plain": [
       "<AxesSubplot:>"
      ]
     },
     "execution_count": 106,
     "metadata": {},
     "output_type": "execute_result"
    },
    {
     "data": {
      "image/png": "[encoded data removed]",
      "text/plain": [
       "<Figure size 432x288 with 1 Axes>"
      ]
     },
     "metadata": {
      "needs_background": "light"
     },
     "output_type": "display_data"
    }
   ],
   "source": [
    "results_batch.boxplot()"
   ]
  },
  {
   "cell_type": "markdown",
   "id": "a5868dff",
   "metadata": {},
   "source": [
    "Based on the above results, I have decided to go with batch size = 1.\n",
    "\n",
    "### Final tuned model"
   ]
  },
  {
   "cell_type": "code",
   "execution_count": 108,
   "id": "f626bc0c",
   "metadata": {},
   "outputs": [
    {
     "name": "stdout",
     "output_type": "stream",
     "text": [
      "Epoch 1/3\n",
      "680/680 [==============================] - 161s 236ms/sample - loss: 0.0078\n",
      "Epoch 2/3\n",
      "680/680 [==============================] - 125s 184ms/sample - loss: 0.0074\n",
      "Epoch 3/3\n",
      "680/680 [==============================] - 121s 177ms/sample - loss: 0.0065\n"
     ]
    }
   ],
   "source": [
    "dataset = bc_deaths.values\n",
    "# Get the number of rows to train the model on\n",
    "training_data_len = int(np.ceil( len(dataset) * .95 ))\n",
    "    \n",
    "scaler, scaled_data = scale_data(dataset)\n",
    "    \n",
    "x_train, y_train, x_test, y_test = create_train_test_data(scaled_data)\n",
    "\n",
    "# hyper parameter values\n",
    "batch_size = 1\n",
    "epochs = 3\n",
    "\n",
    "model = fit_lstm(x_train, y_train, batch_size, epochs)\n",
    "        # Get the models predicted price values \n",
    "predictions = model.predict(x_test)\n",
    "predictions = scaler.inverse_transform(predictions)\n",
    "\n",
    "        # Get the root mean squared error (RMSE)\n",
    "rmse = np.sqrt(np.mean(((predictions - y_test) ** 2)))"
   ]
  },
  {
   "cell_type": "code",
   "execution_count": 109,
   "id": "2661f714",
   "metadata": {},
   "outputs": [
    {
     "data": {
      "text/plain": [
       "4.6515476381460035"
      ]
     },
     "execution_count": 109,
     "metadata": {},
     "output_type": "execute_result"
    }
   ],
   "source": [
    "rmse"
   ]
  },
  {
   "cell_type": "code",
   "execution_count": 110,
   "id": "82bb6e45",
   "metadata": {},
   "outputs": [
    {
     "data": {
      "image/png": "[encoded data removed]",
      "text/plain": [
       "<Figure size 1152x432 with 1 Axes>"
      ]
     },
     "metadata": {
      "needs_background": "light"
     },
     "output_type": "display_data"
    }
   ],
   "source": [
    "# Plot the data\n",
    "train = bc_deaths[:training_data_len]\n",
    "valid = bc_deaths[training_data_len:]\n",
    "valid['Predictions'] = predictions\n",
    "\n",
    "plt.figure(figsize=(16,6))\n",
    "plt.title('Daily number of deaths')\n",
    "plt.xlabel('Date', fontsize=18)\n",
    "plt.ylabel('Number of deaths', fontsize=18)\n",
    "plt.plot(train['daily_deaths'])\n",
    "plt.plot(valid[['daily_deaths', 'Predictions']])\n",
    "plt.legend(['Train', 'Val', 'Predictions'], loc='best')\n",
    "plt.show()"
   ]
  },
  {
   "cell_type": "code",
   "execution_count": null,
   "id": "b84aedce",
   "metadata": {},
   "outputs": [],
   "source": [
    "# Additional references"
   ]
  },
  {
   "cell_type": "code",
   "execution_count": 94,
   "id": "f85d8d94",
   "metadata": {},
   "outputs": [
    {
     "data": {
      "text/plain": [
       "694"
      ]
     },
     "execution_count": 94,
     "metadata": {},
     "output_type": "execute_result"
    }
   ],
   "source": [
    "training_data_len = int(np.ceil( len(series) * .95 ))\n",
    "training_data_len"
   ]
  },
  {
   "cell_type": "code",
   "execution_count": 95,
   "id": "2ef29bb1",
   "metadata": {},
   "outputs": [],
   "source": [
    "scaler, scaled_data = scale_data(dataset)"
   ]
  },
  {
   "cell_type": "code",
   "execution_count": 96,
   "id": "d7c5fda9",
   "metadata": {},
   "outputs": [
    {
     "data": {
      "text/plain": [
       "(680, 36)"
      ]
     },
     "execution_count": 96,
     "metadata": {},
     "output_type": "execute_result"
    }
   ],
   "source": [
    "x_train, y_train, x_test, y_test = create_train_test_data(scaled_data)\n",
    "len(x_train), len(x_test)"
   ]
  },
  {
   "cell_type": "code",
   "execution_count": 98,
   "id": "8fd1513a",
   "metadata": {},
   "outputs": [
    {
     "data": {
      "text/plain": [
       "36"
      ]
     },
     "execution_count": 98,
     "metadata": {},
     "output_type": "execute_result"
    }
   ],
   "source": [
    "730 - 694\n"
   ]
  },
  {
   "cell_type": "code",
   "execution_count": 102,
   "id": "541a769b",
   "metadata": {},
   "outputs": [
    {
     "data": {
      "text/plain": [
       "[2, 4]"
      ]
     },
     "execution_count": 102,
     "metadata": {},
     "output_type": "execute_result"
    }
   ],
   "source": [
    "num1 = 680\n",
    "num2 = 36\n",
    "def find_factors(num1, num2):\n",
    "    factors=list()\n",
    "    for i in range(2, min(num1, num2), 2):\n",
    "        if num1% i == 0 and num2%i == 0:\n",
    "            factors.append(i)\n",
    "    return factors\n",
    "\n",
    "find_factors(num1, num2)"
   ]
  },
  {
   "cell_type": "code",
   "execution_count": null,
   "id": "16ea9716",
   "metadata": {},
   "outputs": [],
   "source": []
  }
 ],
 "metadata": {
  "kernelspec": {
   "display_name": "Python 3",
   "language": "python",
   "name": "python3"
  },
  "language_info": {
   "codemirror_mode": {
    "name": "ipython",
    "version": 3
   },
   "file_extension": ".py",
   "mimetype": "text/x-python",
   "name": "python",
   "nbconvert_exporter": "python",
   "pygments_lexer": "ipython3",
   "version": "3.7.6"
  }
 },
 "nbformat": 4,
 "nbformat_minor": 5
}
